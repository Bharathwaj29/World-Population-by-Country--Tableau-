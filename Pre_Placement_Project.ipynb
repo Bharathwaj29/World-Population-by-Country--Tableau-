{
 "cells": [
  {
   "cell_type": "code",
   "execution_count": 1,
   "id": "2bf3ec17",
   "metadata": {},
   "outputs": [],
   "source": [
    "import pandas as pd\n",
    "import numpy as np\n",
    "import matplotlib.pyplot as plt\n",
    "import seaborn as sns\n",
    "import warnings\n",
    "warnings.filterwarnings('ignore')"
   ]
  },
  {
   "cell_type": "code",
   "execution_count": 2,
   "id": "05e8718b",
   "metadata": {},
   "outputs": [
    {
     "data": {
      "text/html": [
       "<div>\n",
       "<style scoped>\n",
       "    .dataframe tbody tr th:only-of-type {\n",
       "        vertical-align: middle;\n",
       "    }\n",
       "\n",
       "    .dataframe tbody tr th {\n",
       "        vertical-align: top;\n",
       "    }\n",
       "\n",
       "    .dataframe thead th {\n",
       "        text-align: right;\n",
       "    }\n",
       "</style>\n",
       "<table border=\"1\" class=\"dataframe\">\n",
       "  <thead>\n",
       "    <tr style=\"text-align: right;\">\n",
       "      <th></th>\n",
       "      <th>country</th>\n",
       "      <th>rank</th>\n",
       "      <th>area</th>\n",
       "      <th>landAreaKm</th>\n",
       "      <th>cca2</th>\n",
       "      <th>cca3</th>\n",
       "      <th>netChange</th>\n",
       "      <th>growthRate</th>\n",
       "      <th>worldPercentage</th>\n",
       "      <th>density</th>\n",
       "      <th>densityMi</th>\n",
       "      <th>place</th>\n",
       "      <th>pop1980</th>\n",
       "      <th>pop2000</th>\n",
       "      <th>pop2010</th>\n",
       "      <th>pop2022</th>\n",
       "      <th>pop2023</th>\n",
       "      <th>pop2030</th>\n",
       "      <th>pop2050</th>\n",
       "    </tr>\n",
       "  </thead>\n",
       "  <tbody>\n",
       "    <tr>\n",
       "      <th>0</th>\n",
       "      <td>India</td>\n",
       "      <td>1</td>\n",
       "      <td>3287590.00</td>\n",
       "      <td>2973190.00</td>\n",
       "      <td>IN</td>\n",
       "      <td>IND</td>\n",
       "      <td>0.4184</td>\n",
       "      <td>0.0081</td>\n",
       "      <td>0.1785</td>\n",
       "      <td>480.5033</td>\n",
       "      <td>1244.5036</td>\n",
       "      <td>356</td>\n",
       "      <td>696828385</td>\n",
       "      <td>1059633675</td>\n",
       "      <td>1240613620</td>\n",
       "      <td>1417173173</td>\n",
       "      <td>1428627663</td>\n",
       "      <td>1514994080</td>\n",
       "      <td>1670490596</td>\n",
       "    </tr>\n",
       "    <tr>\n",
       "      <th>1</th>\n",
       "      <td>China</td>\n",
       "      <td>2</td>\n",
       "      <td>9706961.00</td>\n",
       "      <td>9424702.90</td>\n",
       "      <td>CN</td>\n",
       "      <td>CHN</td>\n",
       "      <td>-0.0113</td>\n",
       "      <td>-0.0002</td>\n",
       "      <td>0.1781</td>\n",
       "      <td>151.2696</td>\n",
       "      <td>391.7884</td>\n",
       "      <td>156</td>\n",
       "      <td>982372466</td>\n",
       "      <td>1264099069</td>\n",
       "      <td>1348191368</td>\n",
       "      <td>1425887337</td>\n",
       "      <td>1425671352</td>\n",
       "      <td>1415605906</td>\n",
       "      <td>1312636325</td>\n",
       "    </tr>\n",
       "    <tr>\n",
       "      <th>2</th>\n",
       "      <td>United States</td>\n",
       "      <td>3</td>\n",
       "      <td>9372610.00</td>\n",
       "      <td>9147420.00</td>\n",
       "      <td>US</td>\n",
       "      <td>USA</td>\n",
       "      <td>0.0581</td>\n",
       "      <td>0.0050</td>\n",
       "      <td>0.0425</td>\n",
       "      <td>37.1686</td>\n",
       "      <td>96.2666</td>\n",
       "      <td>840</td>\n",
       "      <td>223140018</td>\n",
       "      <td>282398554</td>\n",
       "      <td>311182845</td>\n",
       "      <td>338289857</td>\n",
       "      <td>339996563</td>\n",
       "      <td>352162301</td>\n",
       "      <td>375391963</td>\n",
       "    </tr>\n",
       "    <tr>\n",
       "      <th>3</th>\n",
       "      <td>Indonesia</td>\n",
       "      <td>4</td>\n",
       "      <td>1904569.00</td>\n",
       "      <td>1877519.00</td>\n",
       "      <td>ID</td>\n",
       "      <td>IDN</td>\n",
       "      <td>0.0727</td>\n",
       "      <td>0.0074</td>\n",
       "      <td>0.0347</td>\n",
       "      <td>147.8196</td>\n",
       "      <td>382.8528</td>\n",
       "      <td>360</td>\n",
       "      <td>148177096</td>\n",
       "      <td>214072421</td>\n",
       "      <td>244016173</td>\n",
       "      <td>275501339</td>\n",
       "      <td>277534122</td>\n",
       "      <td>292150100</td>\n",
       "      <td>317225213</td>\n",
       "    </tr>\n",
       "    <tr>\n",
       "      <th>4</th>\n",
       "      <td>Pakistan</td>\n",
       "      <td>5</td>\n",
       "      <td>881912.00</td>\n",
       "      <td>770880.00</td>\n",
       "      <td>PK</td>\n",
       "      <td>PAK</td>\n",
       "      <td>0.1495</td>\n",
       "      <td>0.0198</td>\n",
       "      <td>0.0300</td>\n",
       "      <td>311.9625</td>\n",
       "      <td>807.9829</td>\n",
       "      <td>586</td>\n",
       "      <td>80624057</td>\n",
       "      <td>154369924</td>\n",
       "      <td>194454498</td>\n",
       "      <td>235824862</td>\n",
       "      <td>240485658</td>\n",
       "      <td>274029836</td>\n",
       "      <td>367808468</td>\n",
       "    </tr>\n",
       "    <tr>\n",
       "      <th>...</th>\n",
       "      <td>...</td>\n",
       "      <td>...</td>\n",
       "      <td>...</td>\n",
       "      <td>...</td>\n",
       "      <td>...</td>\n",
       "      <td>...</td>\n",
       "      <td>...</td>\n",
       "      <td>...</td>\n",
       "      <td>...</td>\n",
       "      <td>...</td>\n",
       "      <td>...</td>\n",
       "      <td>...</td>\n",
       "      <td>...</td>\n",
       "      <td>...</td>\n",
       "      <td>...</td>\n",
       "      <td>...</td>\n",
       "      <td>...</td>\n",
       "      <td>...</td>\n",
       "      <td>...</td>\n",
       "    </tr>\n",
       "    <tr>\n",
       "      <th>229</th>\n",
       "      <td>Montserrat</td>\n",
       "      <td>230</td>\n",
       "      <td>102.00</td>\n",
       "      <td>102.00</td>\n",
       "      <td>MS</td>\n",
       "      <td>MSR</td>\n",
       "      <td>NaN</td>\n",
       "      <td>-0.0009</td>\n",
       "      <td>NaN</td>\n",
       "      <td>43.0000</td>\n",
       "      <td>111.3700</td>\n",
       "      <td>500</td>\n",
       "      <td>11452</td>\n",
       "      <td>5138</td>\n",
       "      <td>4938</td>\n",
       "      <td>4390</td>\n",
       "      <td>4386</td>\n",
       "      <td>4301</td>\n",
       "      <td>3781</td>\n",
       "    </tr>\n",
       "    <tr>\n",
       "      <th>230</th>\n",
       "      <td>Falkland Islands</td>\n",
       "      <td>231</td>\n",
       "      <td>12173.00</td>\n",
       "      <td>12173.00</td>\n",
       "      <td>FK</td>\n",
       "      <td>FLK</td>\n",
       "      <td>NaN</td>\n",
       "      <td>0.0029</td>\n",
       "      <td>NaN</td>\n",
       "      <td>0.3114</td>\n",
       "      <td>0.8066</td>\n",
       "      <td>238</td>\n",
       "      <td>2240</td>\n",
       "      <td>3080</td>\n",
       "      <td>3187</td>\n",
       "      <td>3780</td>\n",
       "      <td>3791</td>\n",
       "      <td>3869</td>\n",
       "      <td>3779</td>\n",
       "    </tr>\n",
       "    <tr>\n",
       "      <th>231</th>\n",
       "      <td>Niue</td>\n",
       "      <td>232</td>\n",
       "      <td>261.00</td>\n",
       "      <td>261.00</td>\n",
       "      <td>NU</td>\n",
       "      <td>NIU</td>\n",
       "      <td>0.0000</td>\n",
       "      <td>0.0005</td>\n",
       "      <td>NaN</td>\n",
       "      <td>7.4138</td>\n",
       "      <td>19.2017</td>\n",
       "      <td>570</td>\n",
       "      <td>3637</td>\n",
       "      <td>2074</td>\n",
       "      <td>1812</td>\n",
       "      <td>1934</td>\n",
       "      <td>1935</td>\n",
       "      <td>1948</td>\n",
       "      <td>2096</td>\n",
       "    </tr>\n",
       "    <tr>\n",
       "      <th>232</th>\n",
       "      <td>Tokelau</td>\n",
       "      <td>233</td>\n",
       "      <td>12.00</td>\n",
       "      <td>10.00</td>\n",
       "      <td>TK</td>\n",
       "      <td>TKL</td>\n",
       "      <td>NaN</td>\n",
       "      <td>0.0118</td>\n",
       "      <td>NaN</td>\n",
       "      <td>189.3000</td>\n",
       "      <td>490.2870</td>\n",
       "      <td>772</td>\n",
       "      <td>1647</td>\n",
       "      <td>1666</td>\n",
       "      <td>1367</td>\n",
       "      <td>1871</td>\n",
       "      <td>1893</td>\n",
       "      <td>2046</td>\n",
       "      <td>2430</td>\n",
       "    </tr>\n",
       "    <tr>\n",
       "      <th>233</th>\n",
       "      <td>Vatican City</td>\n",
       "      <td>234</td>\n",
       "      <td>0.44</td>\n",
       "      <td>0.44</td>\n",
       "      <td>VA</td>\n",
       "      <td>VAT</td>\n",
       "      <td>NaN</td>\n",
       "      <td>0.0157</td>\n",
       "      <td>NaN</td>\n",
       "      <td>1177.2727</td>\n",
       "      <td>3049.1364</td>\n",
       "      <td>336</td>\n",
       "      <td>733</td>\n",
       "      <td>651</td>\n",
       "      <td>596</td>\n",
       "      <td>510</td>\n",
       "      <td>518</td>\n",
       "      <td>561</td>\n",
       "      <td>731</td>\n",
       "    </tr>\n",
       "  </tbody>\n",
       "</table>\n",
       "<p>234 rows × 19 columns</p>\n",
       "</div>"
      ],
      "text/plain": [
       "              country  rank        area  landAreaKm cca2 cca3  netChange  \\\n",
       "0               India     1  3287590.00  2973190.00   IN  IND     0.4184   \n",
       "1               China     2  9706961.00  9424702.90   CN  CHN    -0.0113   \n",
       "2       United States     3  9372610.00  9147420.00   US  USA     0.0581   \n",
       "3           Indonesia     4  1904569.00  1877519.00   ID  IDN     0.0727   \n",
       "4            Pakistan     5   881912.00   770880.00   PK  PAK     0.1495   \n",
       "..                ...   ...         ...         ...  ...  ...        ...   \n",
       "229        Montserrat   230      102.00      102.00   MS  MSR        NaN   \n",
       "230  Falkland Islands   231    12173.00    12173.00   FK  FLK        NaN   \n",
       "231              Niue   232      261.00      261.00   NU  NIU     0.0000   \n",
       "232           Tokelau   233       12.00       10.00   TK  TKL        NaN   \n",
       "233      Vatican City   234        0.44        0.44   VA  VAT        NaN   \n",
       "\n",
       "     growthRate  worldPercentage    density  densityMi  place    pop1980  \\\n",
       "0        0.0081           0.1785   480.5033  1244.5036    356  696828385   \n",
       "1       -0.0002           0.1781   151.2696   391.7884    156  982372466   \n",
       "2        0.0050           0.0425    37.1686    96.2666    840  223140018   \n",
       "3        0.0074           0.0347   147.8196   382.8528    360  148177096   \n",
       "4        0.0198           0.0300   311.9625   807.9829    586   80624057   \n",
       "..          ...              ...        ...        ...    ...        ...   \n",
       "229     -0.0009              NaN    43.0000   111.3700    500      11452   \n",
       "230      0.0029              NaN     0.3114     0.8066    238       2240   \n",
       "231      0.0005              NaN     7.4138    19.2017    570       3637   \n",
       "232      0.0118              NaN   189.3000   490.2870    772       1647   \n",
       "233      0.0157              NaN  1177.2727  3049.1364    336        733   \n",
       "\n",
       "        pop2000     pop2010     pop2022     pop2023     pop2030     pop2050  \n",
       "0    1059633675  1240613620  1417173173  1428627663  1514994080  1670490596  \n",
       "1    1264099069  1348191368  1425887337  1425671352  1415605906  1312636325  \n",
       "2     282398554   311182845   338289857   339996563   352162301   375391963  \n",
       "3     214072421   244016173   275501339   277534122   292150100   317225213  \n",
       "4     154369924   194454498   235824862   240485658   274029836   367808468  \n",
       "..          ...         ...         ...         ...         ...         ...  \n",
       "229        5138        4938        4390        4386        4301        3781  \n",
       "230        3080        3187        3780        3791        3869        3779  \n",
       "231        2074        1812        1934        1935        1948        2096  \n",
       "232        1666        1367        1871        1893        2046        2430  \n",
       "233         651         596         510         518         561         731  \n",
       "\n",
       "[234 rows x 19 columns]"
      ]
     },
     "execution_count": 2,
     "metadata": {},
     "output_type": "execute_result"
    }
   ],
   "source": [
    "df=pd.read_csv('countries-table_11.csv')\n",
    "df"
   ]
  },
  {
   "cell_type": "code",
   "execution_count": 26,
   "id": "3f2101d0",
   "metadata": {},
   "outputs": [
    {
     "name": "stdout",
     "output_type": "stream",
     "text": [
      "categorical      continuous\n",
      "---------------  ------------\n",
      "area             country\n",
      "landAreaKm       rank\n",
      "netChange        cca2\n",
      "growthRate       cca3\n",
      "worldPercentage  density\n",
      "                 densityMi\n",
      "                 place\n",
      "                 pop1980\n",
      "                 pop2000\n",
      "                 pop2010\n",
      "                 pop2022\n",
      "                 pop2023\n",
      "                 pop2030\n",
      "                 pop2050\n"
     ]
    }
   ],
   "source": [
    "def separate_data_types(df):\n",
    "    categorical=[]\n",
    "    continuous=[]\n",
    "    for column in df.columns:\n",
    "        if df[column].nunique()<225:\n",
    "            categorical.append(column)\n",
    "        else:\n",
    "            continuous.append(column)\n",
    "    return categorical, continuous\n",
    "\n",
    "categorical, continuous=separate_data_types(df)\n",
    "\n",
    "from tabulate import tabulate\n",
    "print(tabulate({\"categorical\":categorical,\n",
    "                 \"continuous\":continuous},\n",
    "                 headers=[\"categorical\", \"continuous\"]))\n"
   ]
  },
  {
   "cell_type": "code",
   "execution_count": 3,
   "id": "660a9618",
   "metadata": {},
   "outputs": [
    {
     "data": {
      "text/plain": [
       "country            0\n",
       "rank               0\n",
       "area               0\n",
       "landAreaKm         0\n",
       "cca2               1\n",
       "cca3               0\n",
       "netChange          8\n",
       "growthRate         0\n",
       "worldPercentage    6\n",
       "density            0\n",
       "densityMi          0\n",
       "place              0\n",
       "pop1980            0\n",
       "pop2000            0\n",
       "pop2010            0\n",
       "pop2022            0\n",
       "pop2023            0\n",
       "pop2030            0\n",
       "pop2050            0\n",
       "dtype: int64"
      ]
     },
     "execution_count": 3,
     "metadata": {},
     "output_type": "execute_result"
    }
   ],
   "source": [
    "df.isnull().sum()"
   ]
  },
  {
   "cell_type": "code",
   "execution_count": 6,
   "id": "3bd90717",
   "metadata": {},
   "outputs": [
    {
     "data": {
      "text/plain": [
       "0.0000    51\n",
       "0.0001    18\n",
       "0.0003    11\n",
       "0.0007    10\n",
       "0.0002     9\n",
       "          ..\n",
       "0.0038     1\n",
       "0.0107     1\n",
       "0.0034     1\n",
       "0.0030     1\n",
       "0.1785     1\n",
       "Name: worldPercentage, Length: 73, dtype: int64"
      ]
     },
     "execution_count": 6,
     "metadata": {},
     "output_type": "execute_result"
    }
   ],
   "source": [
    "df.worldPercentage.value_counts()"
   ]
  },
  {
   "cell_type": "code",
   "execution_count": 15,
   "id": "4e6bf518",
   "metadata": {},
   "outputs": [
    {
     "data": {
      "image/png": "[encoded data removed]",
      "text/plain": [
       "<Figure size 800x400 with 1 Axes>"
      ]
     },
     "metadata": {},
     "output_type": "display_data"
    }
   ],
   "source": [
    "fig,ax=plt.subplots(figsize=(8,4))\n",
    "sns.boxplot(df.landAreaKm);"
   ]
  },
  {
   "cell_type": "code",
   "execution_count": 16,
   "id": "069e2c19",
   "metadata": {},
   "outputs": [],
   "source": [
    "q1=df['landAreaKm'].describe()['25%']\n",
    "q3=df['landAreaKm'].describe()['75%']\n",
    "iqr=q3-q1\n",
    "upper_bound=q3+1.5*iqr\n",
    "df['landAreaKm']=np.where(df['landAreaKm']>upper_bound, upper_bound, df['landAreaKm'])"
   ]
  },
  {
   "cell_type": "code",
   "execution_count": 17,
   "id": "c1a27792",
   "metadata": {},
   "outputs": [
    {
     "data": {
      "image/png": "[encoded data removed]",
      "text/plain": [
       "<Figure size 800x400 with 1 Axes>"
      ]
     },
     "metadata": {},
     "output_type": "display_data"
    }
   ],
   "source": [
    "fig,ax=plt.subplots(figsize=(8,4))\n",
    "sns.boxplot(df.landAreaKm);"
   ]
  },
  {
   "cell_type": "code",
   "execution_count": 18,
   "id": "ad5c1bd2",
   "metadata": {},
   "outputs": [
    {
     "data": {
      "image/png": "[encoded data removed]",
      "text/plain": [
       "<Figure size 800x400 with 1 Axes>"
      ]
     },
     "metadata": {},
     "output_type": "display_data"
    }
   ],
   "source": [
    "fig,ax=plt.subplots(figsize=(8,4))\n",
    "sns.boxplot(df.area);"
   ]
  },
  {
   "cell_type": "code",
   "execution_count": 19,
   "id": "494265bd",
   "metadata": {},
   "outputs": [],
   "source": [
    "q1=df['area'].describe()['25%']\n",
    "q3=df['area'].describe()['75%']\n",
    "iqr=q3-q1\n",
    "upper_bound=q3+1.5*iqr\n",
    "df['area']=np.where(df['area']>upper_bound, upper_bound, df['area'])"
   ]
  },
  {
   "cell_type": "code",
   "execution_count": 20,
   "id": "154f31e8",
   "metadata": {},
   "outputs": [
    {
     "data": {
      "image/png": "[encoded data removed]",
      "text/plain": [
       "<Figure size 800x400 with 1 Axes>"
      ]
     },
     "metadata": {},
     "output_type": "display_data"
    }
   ],
   "source": [
    "fig,ax=plt.subplots(figsize=(8,4))\n",
    "sns.boxplot(df.area);"
   ]
  },
  {
   "cell_type": "code",
   "execution_count": 27,
   "id": "7d3adb1c",
   "metadata": {},
   "outputs": [
    {
     "data": {
      "image/png": "[encoded data removed]",
      "text/plain": [
       "<Figure size 800x400 with 1 Axes>"
      ]
     },
     "metadata": {},
     "output_type": "display_data"
    }
   ],
   "source": [
    "fig,ax=plt.subplots(figsize=(8,4))\n",
    "sns.boxplot(df.density);"
   ]
  },
  {
   "cell_type": "code",
   "execution_count": 28,
   "id": "7224071d",
   "metadata": {},
   "outputs": [],
   "source": [
    "q1=df['density'].describe()['25%']\n",
    "q3=df['density'].describe()['75%']\n",
    "iqr=q3-q1\n",
    "upper_bound=q3+1.5*iqr\n",
    "df['density']=np.where(df['density']>upper_bound, upper_bound, df['density'])"
   ]
  },
  {
   "cell_type": "code",
   "execution_count": 29,
   "id": "7e201c32",
   "metadata": {},
   "outputs": [
    {
     "data": {
      "image/png": "[encoded data removed]",
      "text/plain": [
       "<Figure size 800x400 with 1 Axes>"
      ]
     },
     "metadata": {},
     "output_type": "display_data"
    }
   ],
   "source": [
    "fig,ax=plt.subplots(figsize=(8,4))\n",
    "sns.boxplot(df.density);"
   ]
  },
  {
   "cell_type": "code",
   "execution_count": 30,
   "id": "a4b95065",
   "metadata": {},
   "outputs": [
    {
     "data": {
      "image/png": "[encoded data removed]",
      "text/plain": [
       "<Figure size 800x400 with 1 Axes>"
      ]
     },
     "metadata": {},
     "output_type": "display_data"
    }
   ],
   "source": [
    "fig,ax=plt.subplots(figsize=(8,4))\n",
    "sns.boxplot(df.densityMi);"
   ]
  },
  {
   "cell_type": "code",
   "execution_count": 31,
   "id": "95ce7c42",
   "metadata": {},
   "outputs": [],
   "source": [
    "q1=df['densityMi'].describe()['25%']\n",
    "q3=df['densityMi'].describe()['75%']\n",
    "iqr=q3-q1\n",
    "upper_bound=q3+1.5*iqr\n",
    "df['densityMi']=np.where(df['densityMi']>upper_bound, upper_bound, df['densityMi'])"
   ]
  },
  {
   "cell_type": "code",
   "execution_count": 32,
   "id": "38e31101",
   "metadata": {},
   "outputs": [
    {
     "data": {
      "image/png": "[encoded data removed]",
      "text/plain": [
       "<Figure size 800x400 with 1 Axes>"
      ]
     },
     "metadata": {},
     "output_type": "display_data"
    }
   ],
   "source": [
    "fig,ax=plt.subplots(figsize=(8,4))\n",
    "sns.boxplot(df.densityMi);"
   ]
  },
  {
   "cell_type": "code",
   "execution_count": 33,
   "id": "5daa1f92",
   "metadata": {},
   "outputs": [
    {
     "data": {
      "image/png": "[encoded data removed]",
      "text/plain": [
       "<Figure size 800x400 with 1 Axes>"
      ]
     },
     "metadata": {},
     "output_type": "display_data"
    }
   ],
   "source": [
    "fig,ax=plt.subplots(figsize=(8,4))\n",
    "sns.boxplot(df.place);"
   ]
  },
  {
   "cell_type": "code",
   "execution_count": 34,
   "id": "625c373b",
   "metadata": {},
   "outputs": [
    {
     "data": {
      "image/png": "[encoded data removed]",
      "text/plain": [
       "<Figure size 800x400 with 1 Axes>"
      ]
     },
     "metadata": {},
     "output_type": "display_data"
    }
   ],
   "source": [
    "fig,ax=plt.subplots(figsize=(8,4))\n",
    "sns.boxplot(df.pop1980);"
   ]
  },
  {
   "cell_type": "code",
   "execution_count": 35,
   "id": "1e05b256",
   "metadata": {},
   "outputs": [],
   "source": [
    "q1=df['pop1980'].describe()['25%']\n",
    "q3=df['pop1980'].describe()['75%']\n",
    "iqr=q3-q1\n",
    "upper_bound=q3+1.5*iqr\n",
    "df['pop1980']=np.where(df['pop1980']>upper_bound, upper_bound, df['pop1980'])"
   ]
  },
  {
   "cell_type": "code",
   "execution_count": 36,
   "id": "ac063ab4",
   "metadata": {},
   "outputs": [
    {
     "data": {
      "image/png": "[encoded data removed]",
      "text/plain": [
       "<Figure size 800x400 with 1 Axes>"
      ]
     },
     "metadata": {},
     "output_type": "display_data"
    }
   ],
   "source": [
    "fig,ax=plt.subplots(figsize=(8,4))\n",
    "sns.boxplot(df.pop1980);"
   ]
  },
  {
   "cell_type": "code",
   "execution_count": 37,
   "id": "2450cda2",
   "metadata": {},
   "outputs": [
    {
     "data": {
      "image/png": "[encoded data removed]",
      "text/plain": [
       "<Figure size 800x400 with 1 Axes>"
      ]
     },
     "metadata": {},
     "output_type": "display_data"
    }
   ],
   "source": [
    "fig,ax=plt.subplots(figsize=(8,4))\n",
    "sns.boxplot(df.pop2000);"
   ]
  },
  {
   "cell_type": "code",
   "execution_count": 38,
   "id": "5b2bc2a3",
   "metadata": {},
   "outputs": [],
   "source": [
    "q1=df['pop2000'].describe()['25%']\n",
    "q3=df['pop2000'].describe()['75%']\n",
    "iqr=q3-q1\n",
    "upper_bound=q3+1.5*iqr\n",
    "df['pop2000']=np.where(df['pop2000']>upper_bound, upper_bound, df['pop2000'])"
   ]
  },
  {
   "cell_type": "code",
   "execution_count": 39,
   "id": "14120e5e",
   "metadata": {},
   "outputs": [
    {
     "data": {
      "image/png": "[encoded data removed]",
      "text/plain": [
       "<Figure size 800x400 with 1 Axes>"
      ]
     },
     "metadata": {},
     "output_type": "display_data"
    }
   ],
   "source": [
    "fig,ax=plt.subplots(figsize=(8,4))\n",
    "sns.boxplot(df.pop2000);"
   ]
  },
  {
   "cell_type": "code",
   "execution_count": 40,
   "id": "96b4eb3a",
   "metadata": {},
   "outputs": [
    {
     "data": {
      "image/png": "[encoded data removed]",
      "text/plain": [
       "<Figure size 800x400 with 1 Axes>"
      ]
     },
     "metadata": {},
     "output_type": "display_data"
    }
   ],
   "source": [
    "fig,ax=plt.subplots(figsize=(8,4))\n",
    "sns.boxplot(df.pop2010);"
   ]
  },
  {
   "cell_type": "code",
   "execution_count": 41,
   "id": "df0bbedc",
   "metadata": {},
   "outputs": [],
   "source": [
    "q1=df['pop2010'].describe()['25%']\n",
    "q3=df['pop2010'].describe()['75%']\n",
    "iqr=q3-q1\n",
    "upper_bound=q3+1.5*iqr\n",
    "df['pop2010']=np.where(df['pop2010']>upper_bound, upper_bound, df['pop2010'])"
   ]
  },
  {
   "cell_type": "code",
   "execution_count": 42,
   "id": "a5c343f2",
   "metadata": {},
   "outputs": [
    {
     "data": {
      "image/png": "[encoded data removed]",
      "text/plain": [
       "<Figure size 800x400 with 1 Axes>"
      ]
     },
     "metadata": {},
     "output_type": "display_data"
    }
   ],
   "source": [
    "fig,ax=plt.subplots(figsize=(8,4))\n",
    "sns.boxplot(df.pop2010);"
   ]
  },
  {
   "cell_type": "code",
   "execution_count": 43,
   "id": "209575a4",
   "metadata": {},
   "outputs": [
    {
     "data": {
      "image/png": "[encoded data removed]",
      "text/plain": [
       "<Figure size 800x400 with 1 Axes>"
      ]
     },
     "metadata": {},
     "output_type": "display_data"
    }
   ],
   "source": [
    "fig,ax=plt.subplots(figsize=(8,4))\n",
    "sns.boxplot(df.pop2022);"
   ]
  },
  {
   "cell_type": "code",
   "execution_count": 44,
   "id": "d0ec4596",
   "metadata": {},
   "outputs": [],
   "source": [
    "q1=df['pop2022'].describe()['25%']\n",
    "q3=df['pop2022'].describe()['75%']\n",
    "iqr=q3-q1\n",
    "upper_bound=q3+1.5*iqr\n",
    "df['pop2022']=np.where(df['pop2022']>upper_bound, upper_bound, df['pop2022'])"
   ]
  },
  {
   "cell_type": "code",
   "execution_count": 45,
   "id": "5deb3f1d",
   "metadata": {},
   "outputs": [
    {
     "data": {
      "image/png": "[encoded data removed]",
      "text/plain": [
       "<Figure size 800x400 with 1 Axes>"
      ]
     },
     "metadata": {},
     "output_type": "display_data"
    }
   ],
   "source": [
    "fig,ax=plt.subplots(figsize=(8,4))\n",
    "sns.boxplot(df.pop2022);"
   ]
  },
  {
   "cell_type": "code",
   "execution_count": 46,
   "id": "31b210c3",
   "metadata": {},
   "outputs": [
    {
     "data": {
      "image/png": "[encoded data removed]",
      "text/plain": [
       "<Figure size 800x400 with 1 Axes>"
      ]
     },
     "metadata": {},
     "output_type": "display_data"
    }
   ],
   "source": [
    "fig,ax=plt.subplots(figsize=(8,4))\n",
    "sns.boxplot(df.pop2023);"
   ]
  },
  {
   "cell_type": "code",
   "execution_count": 47,
   "id": "12db9fb3",
   "metadata": {},
   "outputs": [],
   "source": [
    "q1=df['pop2023'].describe()['25%']\n",
    "q3=df['pop2023'].describe()['75%']\n",
    "iqr=q3-q1\n",
    "upper_bound=q3+1.5*iqr\n",
    "df['pop2023']=np.where(df['pop2023']>upper_bound, upper_bound, df['pop2023'])"
   ]
  },
  {
   "cell_type": "code",
   "execution_count": 48,
   "id": "e492cdc1",
   "metadata": {},
   "outputs": [
    {
     "data": {
      "image/png": "[encoded data removed]",
      "text/plain": [
       "<Figure size 800x400 with 1 Axes>"
      ]
     },
     "metadata": {},
     "output_type": "display_data"
    }
   ],
   "source": [
    "fig,ax=plt.subplots(figsize=(8,4))\n",
    "sns.boxplot(df.pop2023);"
   ]
  },
  {
   "cell_type": "code",
   "execution_count": 49,
   "id": "c7e96a70",
   "metadata": {},
   "outputs": [
    {
     "data": {
      "image/png": "[encoded data removed]",
      "text/plain": [
       "<Figure size 800x400 with 1 Axes>"
      ]
     },
     "metadata": {},
     "output_type": "display_data"
    }
   ],
   "source": [
    "fig,ax=plt.subplots(figsize=(8,4))\n",
    "sns.boxplot(df.pop2030);"
   ]
  },
  {
   "cell_type": "code",
   "execution_count": 50,
   "id": "86c6b988",
   "metadata": {},
   "outputs": [],
   "source": [
    "q1=df['pop2030'].describe()['25%']\n",
    "q3=df['pop2030'].describe()['75%']\n",
    "iqr=q3-q1\n",
    "upper_bound=q3+1.5*iqr\n",
    "df['pop2030']=np.where(df['pop2030']>upper_bound, upper_bound, df['pop2030'])"
   ]
  },
  {
   "cell_type": "code",
   "execution_count": 51,
   "id": "24cd4af6",
   "metadata": {},
   "outputs": [
    {
     "data": {
      "image/png": "[encoded data removed]",
      "text/plain": [
       "<Figure size 800x400 with 1 Axes>"
      ]
     },
     "metadata": {},
     "output_type": "display_data"
    }
   ],
   "source": [
    "fig,ax=plt.subplots(figsize=(8,4))\n",
    "sns.boxplot(df.pop2030);"
   ]
  },
  {
   "cell_type": "code",
   "execution_count": 52,
   "id": "725a6869",
   "metadata": {},
   "outputs": [
    {
     "data": {
      "image/png": "[encoded data removed]",
      "text/plain": [
       "<Figure size 800x400 with 1 Axes>"
      ]
     },
     "metadata": {},
     "output_type": "display_data"
    }
   ],
   "source": [
    "fig,ax=plt.subplots(figsize=(8,4))\n",
    "sns.boxplot(df.pop2050);"
   ]
  },
  {
   "cell_type": "code",
   "execution_count": 53,
   "id": "0669c6e7",
   "metadata": {},
   "outputs": [],
   "source": [
    "q1=df['pop2050'].describe()['25%']\n",
    "q3=df['pop2050'].describe()['75%']\n",
    "iqr=q3-q1\n",
    "upper_bound=q3+1.5*iqr\n",
    "df['pop2050']=np.where(df['pop2050']>upper_bound, upper_bound, df['pop2050'])"
   ]
  },
  {
   "cell_type": "code",
   "execution_count": 54,
   "id": "99aea61f",
   "metadata": {},
   "outputs": [
    {
     "data": {
      "image/png": "[encoded data removed]",
      "text/plain": [
       "<Figure size 800x400 with 1 Axes>"
      ]
     },
     "metadata": {},
     "output_type": "display_data"
    }
   ],
   "source": [
    "fig,ax=plt.subplots(figsize=(8,4))\n",
    "sns.boxplot(df.pop2050);"
   ]
  },
  {
   "cell_type": "code",
   "execution_count": 58,
   "id": "5d3347e7",
   "metadata": {},
   "outputs": [
    {
     "data": {
      "text/plain": [
       "8"
      ]
     },
     "execution_count": 58,
     "metadata": {},
     "output_type": "execute_result"
    }
   ],
   "source": [
    "df.netChange.isnull().sum()"
   ]
  },
  {
   "cell_type": "code",
   "execution_count": 57,
   "id": "bf74f13f",
   "metadata": {},
   "outputs": [
    {
     "data": {
      "text/plain": [
       " 0.0000    46\n",
       " 0.0200    32\n",
       " 0.0001    11\n",
       " 0.0002    11\n",
       " 0.0003     6\n",
       "           ..\n",
       "-0.0113     1\n",
       " 0.0058     1\n",
       " 0.0020     1\n",
       " 0.0125     1\n",
       " 0.0072     1\n",
       "Name: netChange, Length: 88, dtype: int64"
      ]
     },
     "execution_count": 57,
     "metadata": {},
     "output_type": "execute_result"
    }
   ],
   "source": [
    "df.netChange.value_counts()"
   ]
  },
  {
   "cell_type": "code",
   "execution_count": 59,
   "id": "ec193064",
   "metadata": {},
   "outputs": [],
   "source": [
    "df['netChange']=df['netChange'].fillna(df['netChange'].mode()[0])"
   ]
  },
  {
   "cell_type": "code",
   "execution_count": 60,
   "id": "d06bfcaa",
   "metadata": {},
   "outputs": [
    {
     "data": {
      "text/plain": [
       "0"
      ]
     },
     "execution_count": 60,
     "metadata": {},
     "output_type": "execute_result"
    }
   ],
   "source": [
    "df.netChange.isnull().sum()"
   ]
  },
  {
   "cell_type": "code",
   "execution_count": 61,
   "id": "4265d857",
   "metadata": {},
   "outputs": [
    {
     "data": {
      "text/plain": [
       "6"
      ]
     },
     "execution_count": 61,
     "metadata": {},
     "output_type": "execute_result"
    }
   ],
   "source": [
    "df.worldPercentage.isnull().sum()"
   ]
  },
  {
   "cell_type": "code",
   "execution_count": 67,
   "id": "d989619b",
   "metadata": {},
   "outputs": [
    {
     "data": {
      "text/plain": [
       "0.0000    57\n",
       "0.0001    18\n",
       "0.0003    11\n",
       "0.0007    10\n",
       "0.0002     9\n",
       "          ..\n",
       "0.0038     1\n",
       "0.0107     1\n",
       "0.0034     1\n",
       "0.0030     1\n",
       "0.1785     1\n",
       "Name: worldPercentage, Length: 73, dtype: int64"
      ]
     },
     "execution_count": 67,
     "metadata": {},
     "output_type": "execute_result"
    }
   ],
   "source": [
    "df.worldPercentage.value_counts()"
   ]
  },
  {
   "cell_type": "code",
   "execution_count": 62,
   "id": "bf1cef89",
   "metadata": {},
   "outputs": [],
   "source": [
    "df['worldPercentage']=df['worldPercentage'].fillna(df['worldPercentage'].mode()[0])"
   ]
  },
  {
   "cell_type": "code",
   "execution_count": 63,
   "id": "89887f36",
   "metadata": {},
   "outputs": [
    {
     "data": {
      "text/plain": [
       "0"
      ]
     },
     "execution_count": 63,
     "metadata": {},
     "output_type": "execute_result"
    }
   ],
   "source": [
    "df.worldPercentage.isnull().sum()"
   ]
  },
  {
   "cell_type": "code",
   "execution_count": 64,
   "id": "4ebd36af",
   "metadata": {},
   "outputs": [
    {
     "data": {
      "text/plain": [
       "1"
      ]
     },
     "execution_count": 64,
     "metadata": {},
     "output_type": "execute_result"
    }
   ],
   "source": [
    "df.cca2.isnull().sum()"
   ]
  },
  {
   "cell_type": "code",
   "execution_count": 66,
   "id": "0ab4568a",
   "metadata": {},
   "outputs": [
    {
     "data": {
      "text/plain": [
       "IN    1\n",
       "FJ    1\n",
       "MK    1\n",
       "LV    1\n",
       "GQ    1\n",
       "     ..\n",
       "JO    1\n",
       "DO    1\n",
       "CU    1\n",
       "SS    1\n",
       "VA    1\n",
       "Name: cca2, Length: 233, dtype: int64"
      ]
     },
     "execution_count": 66,
     "metadata": {},
     "output_type": "execute_result"
    }
   ],
   "source": [
    "df.cca2.value_counts()"
   ]
  },
  {
   "cell_type": "code",
   "execution_count": 68,
   "id": "7ac0c15c",
   "metadata": {},
   "outputs": [],
   "source": [
    "df['cca2']=df['cca2'].fillna(df['cca2'].mode()[0])"
   ]
  },
  {
   "cell_type": "code",
   "execution_count": 69,
   "id": "a2a700b1",
   "metadata": {},
   "outputs": [
    {
     "data": {
      "text/plain": [
       "0"
      ]
     },
     "execution_count": 69,
     "metadata": {},
     "output_type": "execute_result"
    }
   ],
   "source": [
    "df.cca2.isnull().sum()"
   ]
  },
  {
   "cell_type": "code",
   "execution_count": 70,
   "id": "d59dba01",
   "metadata": {},
   "outputs": [],
   "source": [
    "df.to_csv('Word_Population_data.csv')"
   ]
  },
  {
   "cell_type": "code",
   "execution_count": null,
   "id": "f5397071",
   "metadata": {},
   "outputs": [],
   "source": []
  },
  {
   "cell_type": "code",
   "execution_count": null,
   "id": "380931ad",
   "metadata": {},
   "outputs": [],
   "source": []
  },
  {
   "cell_type": "code",
   "execution_count": null,
   "id": "401bf0d7",
   "metadata": {},
   "outputs": [],
   "source": []
  },
  {
   "cell_type": "code",
   "execution_count": null,
   "id": "df8fe2b3",
   "metadata": {},
   "outputs": [],
   "source": []
  },
  {
   "cell_type": "code",
   "execution_count": null,
   "id": "7df0c68b",
   "metadata": {},
   "outputs": [],
   "source": []
  },
  {
   "cell_type": "code",
   "execution_count": null,
   "id": "661cbcfa",
   "metadata": {},
   "outputs": [],
   "source": []
  },
  {
   "cell_type": "code",
   "execution_count": null,
   "id": "35f4494a",
   "metadata": {},
   "outputs": [],
   "source": []
  },
  {
   "cell_type": "code",
   "execution_count": null,
   "id": "211e9e95",
   "metadata": {},
   "outputs": [],
   "source": []
  },
  {
   "cell_type": "code",
   "execution_count": null,
   "id": "351f437a",
   "metadata": {},
   "outputs": [],
   "source": []
  },
  {
   "cell_type": "code",
   "execution_count": null,
   "id": "f0f82bdf",
   "metadata": {},
   "outputs": [],
   "source": []
  },
  {
   "cell_type": "code",
   "execution_count": null,
   "id": "2a670d65",
   "metadata": {},
   "outputs": [],
   "source": []
  },
  {
   "cell_type": "code",
   "execution_count": null,
   "id": "df296d84",
   "metadata": {},
   "outputs": [],
   "source": []
  },
  {
   "cell_type": "code",
   "execution_count": null,
   "id": "96d96439",
   "metadata": {},
   "outputs": [],
   "source": []
  },
  {
   "cell_type": "code",
   "execution_count": null,
   "id": "606fd84b",
   "metadata": {},
   "outputs": [],
   "source": []
  },
  {
   "cell_type": "code",
   "execution_count": null,
   "id": "1ab9aedf",
   "metadata": {},
   "outputs": [],
   "source": []
  },
  {
   "cell_type": "code",
   "execution_count": null,
   "id": "8f2759d6",
   "metadata": {},
   "outputs": [],
   "source": []
  }
 ],
 "metadata": {
  "kernelspec": {
   "display_name": "Python 3 (ipykernel)",
   "language": "python",
   "name": "python3"
  },
  "language_info": {
   "codemirror_mode": {
    "name": "ipython",
    "version": 3
   },
   "file_extension": ".py",
   "mimetype": "text/x-python",
   "name": "python",
   "nbconvert_exporter": "python",
   "pygments_lexer": "ipython3",
   "version": "3.9.13"
  }
 },
 "nbformat": 4,
 "nbformat_minor": 5
}
